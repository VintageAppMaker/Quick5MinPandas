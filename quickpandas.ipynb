{
  "cells": [
    {
      "cell_type": "markdown",
      "metadata": {
        "colab_type": "text",
        "id": "view-in-github"
      },
      "source": [
        "<a href=\"https://colab.research.google.com/gist/VintageAppMaker/a015185aae33079fb5823f0487df1c51/quickpandas.ipynb\" target=\"_parent\"><img src=\"https://colab.research.google.com/assets/colab-badge.svg\" alt=\"Open In Colab\"/></a>"
      ]
    },
    {
      "cell_type": "markdown",
      "metadata": {
        "id": "NfxEGRtutWkC"
      },
      "source": [
        "# 5분 학습 - Pandas\n",
        "> Pandas를 이용한 데이터 처리예제를 5분학습. 업무자동화(Excel)를 위해서 Pandas의 기초만 학습한다.\n",
        "\n",
        "- colab용"
      ]
    },
    {
      "cell_type": "markdown",
      "metadata": {
        "id": "5F7Jqn_ZusUV"
      },
      "source": [
        "## 초간단 학습\n",
        "\n",
        "1. 데이터프레임 생성\n",
        "\n",
        "~~~python\n",
        "import pandas as pd\n",
        "\n",
        "# 리스트로 데이터프레임 생성\n",
        "df = pd.DataFrame({\n",
        "    \"이름\": [\"홍길동\", \"김유신\", \"이순신\"],\n",
        "    \"나이\": [30, 40, 50],\n",
        "    \"성별\": [\"남\", \"남\", \"남\"]\n",
        "})\n",
        "\n",
        "~~~\n",
        "\n",
        "2. 데이터프레임 슬라이싱\n",
        "데이터프레임의 행과 열을 선택하는 방법\n",
        "\n",
        "~~~python\n",
        "\n",
        "# 특정 행\n",
        "df[[\"이름\", \"성별\"][1]]\n",
        "\n",
        "# 행 인덱싱\n",
        "df[0:2]\n",
        "\n",
        "# 열 인덱싱\n",
        "df[[\"이름\", \"나이\"]]\n",
        "\n",
        "# 조건 인덱싱\n",
        "df[df[\"나이\"] > 40]\n",
        "~~~\n",
        "\n",
        "3. 데이터프레임 연산\n",
        "\n",
        "~~~python\n",
        "\n",
        "# 산술 연산\n",
        "df[\"나이\"] += 1\n",
        "\n",
        "# 논리 연산\n",
        "df[df[\"나이\"] >= 40]\n",
        "\n",
        "# 비교 연산\n",
        "df[df[\"이름\"] == \"홍길동\"]\n",
        "\n",
        "~~~\n",
        "\n",
        "4. 함수\n",
        "\n",
        "~~~ython\n",
        "# 요약 통계\n",
        "df.describe()\n",
        "\n",
        "# 히스토그램\n",
        "df[\"나이\"].hist()\n",
        "\n",
        "~~~\n",
        "\n",
        "5. 파일로 저장/읽기\n",
        "\n",
        "~~~python\n",
        "# CSV 파일로 저장\n",
        "df.to_csv(\"data.csv\")\n",
        "\n",
        "# JSON 파일로 저장\n",
        "df.to_json(\"data.json\")\n",
        "\n",
        "# Excel 파일로 저장\n",
        "df.to_excel(\"data.xlsx\")\n",
        "\n",
        "# CSV 파일로 불러오기\n",
        "df = pd.read_csv(\"data.csv\")\n",
        "\n",
        "# JSON 파일로 불러오기\n",
        "df = pd.read_json(\"data.json\")\n",
        "\n",
        "# Excel 파일로 불러오기\n",
        "df = pd.read_excel(\"data.xlsx\")\n",
        "~~~"
      ]
    },
    {
      "cell_type": "markdown",
      "metadata": {
        "id": "JbeDA3zat6zx"
      },
      "source": [
        "## 예제 1 - 초간단 예제\n",
        "> 너무나 기초적이고 반드시 사용하게 되는 코드정리"
      ]
    },
    {
      "cell_type": "code",
      "execution_count": 3,
      "metadata": {
        "colab": {
          "base_uri": "https://localhost:8080/",
          "height": 1000
        },
        "id": "7Xavhh7Ls0xt",
        "outputId": "74c735f7-a1db-43c1-c40a-6f1e8b634419"
      },
      "outputs": [
        {
          "name": "stdout",
          "output_type": "stream",
          "text": [
            ">>>특정행\n",
            "0    ---->남\n",
            "1    ---->남\n",
            "2    ---->남\n",
            "Name: 성별, dtype: object\n",
            "    이름  나이 성별\n",
            "0  홍길동  30  남\n",
            "1  김유신  40  남\n",
            "2  이순신  50  남\n",
            ">>>행 인덱싱\n",
            "    이름  나이 성별\n",
            "0  홍길동  30  남\n",
            "1  김유신  40  남\n",
            ">>>열 인덱싱\n",
            "    이름  나이\n",
            "0  홍길동  30\n",
            "1  김유신  40\n",
            "2  이순신  50\n",
            ">>>조건 인덱싱\n",
            "    이름  나이 성별\n",
            "0  홍길동  30  남\n",
            ">>>산술연산\n",
            "    이름  나이 성별\n",
            "0  홍길동  31  남\n",
            "1  김유신  41  남\n",
            "2  이순신  51  남\n",
            ">>>논리연산\n",
            "    이름  나이 성별\n",
            "1  김유신  41  남\n",
            "2  이순신  51  남\n",
            ">>>비교연산\n",
            "    이름  나이 성별\n",
            "0  홍길동  31  남\n",
            ">>>정리\n",
            ">>>히스토그램\n"
          ]
        },
        {
          "data": {
            "text/plain": [
              "<Axes: >"
            ]
          },
          "execution_count": 3,
          "metadata": {},
          "output_type": "execute_result"
        },
        {
          "data": {
            "image/png": "[encoded data removed]",
            "text/plain": [
              "<Figure size 640x480 with 1 Axes>"
            ]
          },
          "metadata": {},
          "output_type": "display_data"
        }
      ],
      "source": [
        "import pandas as pd\n",
        "\n",
        "# 리스트로 데이터프레임 생성\n",
        "df = pd.DataFrame({\n",
        "    \"이름\": [\"홍길동\", \"김유신\", \"이순신\"],\n",
        "    \"나이\": [30, 40, 50],\n",
        "    \"성별\": [\"남\", \"남\", \"남\"]\n",
        "})\n",
        "\n",
        "# 딕셔너리로 데이터프레임 생성\n",
        "#df = pd.DataFrame({\n",
        "#    \"이름\": {\"홍길동\": 30, \"김유신\": 40, \"이순신\": 50},\n",
        "#    \"나이\": {\"홍길동\": \"남\", \"김유신\": \"남\", \"이순신\": \"남\"}\n",
        "#})\n",
        "\n",
        "# 특정 행\n",
        "print(\">>>특정행\")\n",
        "print(\"---->\" + df[[\"이름\", \"성별\"][1]])\n",
        "print(df)\n",
        "\n",
        "# 행 인덱싱\n",
        "print(\">>>행 인덱싱\")\n",
        "dfResult = df[0:2]\n",
        "print(dfResult)\n",
        "\n",
        "# 열 인덱싱\n",
        "print(\">>>열 인덱싱\")\n",
        "dfResult = df[[\"이름\", \"나이\"]]\n",
        "print(dfResult)\n",
        "\n",
        "# 조건 인덱싱\n",
        "print(\">>>조건 인덱싱\")\n",
        "dfResult = df[df[\"나이\"] < 40]\n",
        "print(dfResult)\n",
        "\n",
        "# 산술 연산\n",
        "print(\">>>산술연산\")\n",
        "df[\"나이\"] += 1\n",
        "print(df)\n",
        "\n",
        "# 논리 연산\n",
        "print(\">>>논리연산\")\n",
        "dfResult = df[df[\"나이\"] >= 40]\n",
        "print(dfResult)\n",
        "\n",
        "# 비교 연산\n",
        "print(\">>>비교연산\")\n",
        "dfResult = df[df[[\"이름\"][0]] == \"홍길동\"]\n",
        "print(dfResult)\n",
        "\n",
        "# 정리\n",
        "print(\">>>정리\")\n",
        "df.describe()\n",
        "\n",
        "# 히스토그램\n",
        "print(\">>>히스토그램\")\n",
        "df[\"나이\"].hist()\n"
      ]
    },
    {
      "cell_type": "markdown",
      "metadata": {
        "id": "nSOypEdYum70"
      },
      "source": []
    },
    {
      "cell_type": "markdown",
      "metadata": {
        "id": "G-3fzhKcwLYZ"
      },
      "source": [
        "## 예제 2 - Graph 사용법\n",
        "> 기초적인 Graph 사용법"
      ]
    },
    {
      "cell_type": "code",
      "execution_count": null,
      "metadata": {
        "colab": {
          "base_uri": "https://localhost:8080/",
          "height": 542
        },
        "id": "ZjXkXskZwLYZ",
        "outputId": "f663d39e-5ca6-4530-f889-f3028a995544"
      },
      "outputs": [
        {
          "data": {
            "text/html": [
              "<html>\n",
              "<head><meta charset=\"utf-8\" /></head>\n",
              "<body>\n",
              "    <div>            <script src=\"https://cdnjs.cloudflare.com/ajax/libs/mathjax/2.7.5/MathJax.js?config=TeX-AMS-MML_SVG\"></script><script type=\"text/javascript\">if (window.MathJax && window.MathJax.Hub && window.MathJax.Hub.Config) {window.MathJax.Hub.Config({SVG: {font: \"STIX-Web\"}});}</script>                <script type=\"text/javascript\">window.PlotlyConfig = {MathJaxConfig: 'local'};</script>\n",
              "        <script charset=\"utf-8\" src=\"https://cdn.plot.ly/plotly-2.24.1.min.js\"></script>                <div id=\"1b36bb24-1e43-477f-8ee6-ccc927afd839\" class=\"plotly-graph-div\" style=\"height:525px; width:100%;\"></div>            <script type=\"text/javascript\">                                    window.PLOTLYENV=window.PLOTLYENV || {};                                    if (document.getElementById(\"1b36bb24-1e43-477f-8ee6-ccc927afd839\")) {                    Plotly.newPlot(                        \"1b36bb24-1e43-477f-8ee6-ccc927afd839\",                        [{\"alignmentgroup\":\"True\",\"hovertemplate\":\"\\uc0c9\\uc0c1=blue\\u003cbr\\u003e\\uc774\\ub984=%{x}\\u003cbr\\u003e\\ub098\\uc774=%{y}\\u003cextra\\u003e\\u003c\\u002fextra\\u003e\",\"legendgroup\":\"blue\",\"marker\":{\"color\":\"#636efa\",\"pattern\":{\"shape\":\"\"}},\"name\":\"blue\",\"offsetgroup\":\"blue\",\"orientation\":\"v\",\"showlegend\":true,\"textposition\":\"auto\",\"x\":[\"\\ud64d\\uae38\\ub3d9\",\"\\uae40\\uc720\\uc2e0\",\"\\uc774\\uc21c\\uc2e0\"],\"xaxis\":\"x\",\"y\":[30,40,50],\"yaxis\":\"y\",\"type\":\"bar\"}],                        {\"template\":{\"data\":{\"histogram2dcontour\":[{\"type\":\"histogram2dcontour\",\"colorbar\":{\"outlinewidth\":0,\"ticks\":\"\"},\"colorscale\":[[0.0,\"#0d0887\"],[0.1111111111111111,\"#46039f\"],[0.2222222222222222,\"#7201a8\"],[0.3333333333333333,\"#9c179e\"],[0.4444444444444444,\"#bd3786\"],[0.5555555555555556,\"#d8576b\"],[0.6666666666666666,\"#ed7953\"],[0.7777777777777778,\"#fb9f3a\"],[0.8888888888888888,\"#fdca26\"],[1.0,\"#f0f921\"]]}],\"choropleth\":[{\"type\":\"choropleth\",\"colorbar\":{\"outlinewidth\":0,\"ticks\":\"\"}}],\"histogram2d\":[{\"type\":\"histogram2d\",\"colorbar\":{\"outlinewidth\":0,\"ticks\":\"\"},\"colorscale\":[[0.0,\"#0d0887\"],[0.1111111111111111,\"#46039f\"],[0.2222222222222222,\"#7201a8\"],[0.3333333333333333,\"#9c179e\"],[0.4444444444444444,\"#bd3786\"],[0.5555555555555556,\"#d8576b\"],[0.6666666666666666,\"#ed7953\"],[0.7777777777777778,\"#fb9f3a\"],[0.8888888888888888,\"#fdca26\"],[1.0,\"#f0f921\"]]}],\"heatmap\":[{\"type\":\"heatmap\",\"colorbar\":{\"outlinewidth\":0,\"ticks\":\"\"},\"colorscale\":[[0.0,\"#0d0887\"],[0.1111111111111111,\"#46039f\"],[0.2222222222222222,\"#7201a8\"],[0.3333333333333333,\"#9c179e\"],[0.4444444444444444,\"#bd3786\"],[0.5555555555555556,\"#d8576b\"],[0.6666666666666666,\"#ed7953\"],[0.7777777777777778,\"#fb9f3a\"],[0.8888888888888888,\"#fdca26\"],[1.0,\"#f0f921\"]]}],\"heatmapgl\":[{\"type\":\"heatmapgl\",\"colorbar\":{\"outlinewidth\":0,\"ticks\":\"\"},\"colorscale\":[[0.0,\"#0d0887\"],[0.1111111111111111,\"#46039f\"],[0.2222222222222222,\"#7201a8\"],[0.3333333333333333,\"#9c179e\"],[0.4444444444444444,\"#bd3786\"],[0.5555555555555556,\"#d8576b\"],[0.6666666666666666,\"#ed7953\"],[0.7777777777777778,\"#fb9f3a\"],[0.8888888888888888,\"#fdca26\"],[1.0,\"#f0f921\"]]}],\"contourcarpet\":[{\"type\":\"contourcarpet\",\"colorbar\":{\"outlinewidth\":0,\"ticks\":\"\"}}],\"contour\":[{\"type\":\"contour\",\"colorbar\":{\"outlinewidth\":0,\"ticks\":\"\"},\"colorscale\":[[0.0,\"#0d0887\"],[0.1111111111111111,\"#46039f\"],[0.2222222222222222,\"#7201a8\"],[0.3333333333333333,\"#9c179e\"],[0.4444444444444444,\"#bd3786\"],[0.5555555555555556,\"#d8576b\"],[0.6666666666666666,\"#ed7953\"],[0.7777777777777778,\"#fb9f3a\"],[0.8888888888888888,\"#fdca26\"],[1.0,\"#f0f921\"]]}],\"surface\":[{\"type\":\"surface\",\"colorbar\":{\"outlinewidth\":0,\"ticks\":\"\"},\"colorscale\":[[0.0,\"#0d0887\"],[0.1111111111111111,\"#46039f\"],[0.2222222222222222,\"#7201a8\"],[0.3333333333333333,\"#9c179e\"],[0.4444444444444444,\"#bd3786\"],[0.5555555555555556,\"#d8576b\"],[0.6666666666666666,\"#ed7953\"],[0.7777777777777778,\"#fb9f3a\"],[0.8888888888888888,\"#fdca26\"],[1.0,\"#f0f921\"]]}],\"mesh3d\":[{\"type\":\"mesh3d\",\"colorbar\":{\"outlinewidth\":0,\"ticks\":\"\"}}],\"scatter\":[{\"fillpattern\":{\"fillmode\":\"overlay\",\"size\":10,\"solidity\":0.2},\"type\":\"scatter\"}],\"parcoords\":[{\"type\":\"parcoords\",\"line\":{\"colorbar\":{\"outlinewidth\":0,\"ticks\":\"\"}}}],\"scatterpolargl\":[{\"type\":\"scatterpolargl\",\"marker\":{\"colorbar\":{\"outlinewidth\":0,\"ticks\":\"\"}}}],\"bar\":[{\"error_x\":{\"color\":\"#2a3f5f\"},\"error_y\":{\"color\":\"#2a3f5f\"},\"marker\":{\"line\":{\"color\":\"#E5ECF6\",\"width\":0.5},\"pattern\":{\"fillmode\":\"overlay\",\"size\":10,\"solidity\":0.2}},\"type\":\"bar\"}],\"scattergeo\":[{\"type\":\"scattergeo\",\"marker\":{\"colorbar\":{\"outlinewidth\":0,\"ticks\":\"\"}}}],\"scatterpolar\":[{\"type\":\"scatterpolar\",\"marker\":{\"colorbar\":{\"outlinewidth\":0,\"ticks\":\"\"}}}],\"histogram\":[{\"marker\":{\"pattern\":{\"fillmode\":\"overlay\",\"size\":10,\"solidity\":0.2}},\"type\":\"histogram\"}],\"scattergl\":[{\"type\":\"scattergl\",\"marker\":{\"colorbar\":{\"outlinewidth\":0,\"ticks\":\"\"}}}],\"scatter3d\":[{\"type\":\"scatter3d\",\"line\":{\"colorbar\":{\"outlinewidth\":0,\"ticks\":\"\"}},\"marker\":{\"colorbar\":{\"outlinewidth\":0,\"ticks\":\"\"}}}],\"scattermapbox\":[{\"type\":\"scattermapbox\",\"marker\":{\"colorbar\":{\"outlinewidth\":0,\"ticks\":\"\"}}}],\"scatterternary\":[{\"type\":\"scatterternary\",\"marker\":{\"colorbar\":{\"outlinewidth\":0,\"ticks\":\"\"}}}],\"scattercarpet\":[{\"type\":\"scattercarpet\",\"marker\":{\"colorbar\":{\"outlinewidth\":0,\"ticks\":\"\"}}}],\"carpet\":[{\"aaxis\":{\"endlinecolor\":\"#2a3f5f\",\"gridcolor\":\"white\",\"linecolor\":\"white\",\"minorgridcolor\":\"white\",\"startlinecolor\":\"#2a3f5f\"},\"baxis\":{\"endlinecolor\":\"#2a3f5f\",\"gridcolor\":\"white\",\"linecolor\":\"white\",\"minorgridcolor\":\"white\",\"startlinecolor\":\"#2a3f5f\"},\"type\":\"carpet\"}],\"table\":[{\"cells\":{\"fill\":{\"color\":\"#EBF0F8\"},\"line\":{\"color\":\"white\"}},\"header\":{\"fill\":{\"color\":\"#C8D4E3\"},\"line\":{\"color\":\"white\"}},\"type\":\"table\"}],\"barpolar\":[{\"marker\":{\"line\":{\"color\":\"#E5ECF6\",\"width\":0.5},\"pattern\":{\"fillmode\":\"overlay\",\"size\":10,\"solidity\":0.2}},\"type\":\"barpolar\"}],\"pie\":[{\"automargin\":true,\"type\":\"pie\"}]},\"layout\":{\"autotypenumbers\":\"strict\",\"colorway\":[\"#636efa\",\"#EF553B\",\"#00cc96\",\"#ab63fa\",\"#FFA15A\",\"#19d3f3\",\"#FF6692\",\"#B6E880\",\"#FF97FF\",\"#FECB52\"],\"font\":{\"color\":\"#2a3f5f\"},\"hovermode\":\"closest\",\"hoverlabel\":{\"align\":\"left\"},\"paper_bgcolor\":\"white\",\"plot_bgcolor\":\"#E5ECF6\",\"polar\":{\"bgcolor\":\"#E5ECF6\",\"angularaxis\":{\"gridcolor\":\"white\",\"linecolor\":\"white\",\"ticks\":\"\"},\"radialaxis\":{\"gridcolor\":\"white\",\"linecolor\":\"white\",\"ticks\":\"\"}},\"ternary\":{\"bgcolor\":\"#E5ECF6\",\"aaxis\":{\"gridcolor\":\"white\",\"linecolor\":\"white\",\"ticks\":\"\"},\"baxis\":{\"gridcolor\":\"white\",\"linecolor\":\"white\",\"ticks\":\"\"},\"caxis\":{\"gridcolor\":\"white\",\"linecolor\":\"white\",\"ticks\":\"\"}},\"coloraxis\":{\"colorbar\":{\"outlinewidth\":0,\"ticks\":\"\"}},\"colorscale\":{\"sequential\":[[0.0,\"#0d0887\"],[0.1111111111111111,\"#46039f\"],[0.2222222222222222,\"#7201a8\"],[0.3333333333333333,\"#9c179e\"],[0.4444444444444444,\"#bd3786\"],[0.5555555555555556,\"#d8576b\"],[0.6666666666666666,\"#ed7953\"],[0.7777777777777778,\"#fb9f3a\"],[0.8888888888888888,\"#fdca26\"],[1.0,\"#f0f921\"]],\"sequentialminus\":[[0.0,\"#0d0887\"],[0.1111111111111111,\"#46039f\"],[0.2222222222222222,\"#7201a8\"],[0.3333333333333333,\"#9c179e\"],[0.4444444444444444,\"#bd3786\"],[0.5555555555555556,\"#d8576b\"],[0.6666666666666666,\"#ed7953\"],[0.7777777777777778,\"#fb9f3a\"],[0.8888888888888888,\"#fdca26\"],[1.0,\"#f0f921\"]],\"diverging\":[[0,\"#8e0152\"],[0.1,\"#c51b7d\"],[0.2,\"#de77ae\"],[0.3,\"#f1b6da\"],[0.4,\"#fde0ef\"],[0.5,\"#f7f7f7\"],[0.6,\"#e6f5d0\"],[0.7,\"#b8e186\"],[0.8,\"#7fbc41\"],[0.9,\"#4d9221\"],[1,\"#276419\"]]},\"xaxis\":{\"gridcolor\":\"white\",\"linecolor\":\"white\",\"ticks\":\"\",\"title\":{\"standoff\":15},\"zerolinecolor\":\"white\",\"automargin\":true,\"zerolinewidth\":2},\"yaxis\":{\"gridcolor\":\"white\",\"linecolor\":\"white\",\"ticks\":\"\",\"title\":{\"standoff\":15},\"zerolinecolor\":\"white\",\"automargin\":true,\"zerolinewidth\":2},\"scene\":{\"xaxis\":{\"backgroundcolor\":\"#E5ECF6\",\"gridcolor\":\"white\",\"linecolor\":\"white\",\"showbackground\":true,\"ticks\":\"\",\"zerolinecolor\":\"white\",\"gridwidth\":2},\"yaxis\":{\"backgroundcolor\":\"#E5ECF6\",\"gridcolor\":\"white\",\"linecolor\":\"white\",\"showbackground\":true,\"ticks\":\"\",\"zerolinecolor\":\"white\",\"gridwidth\":2},\"zaxis\":{\"backgroundcolor\":\"#E5ECF6\",\"gridcolor\":\"white\",\"linecolor\":\"white\",\"showbackground\":true,\"ticks\":\"\",\"zerolinecolor\":\"white\",\"gridwidth\":2}},\"shapedefaults\":{\"line\":{\"color\":\"#2a3f5f\"}},\"annotationdefaults\":{\"arrowcolor\":\"#2a3f5f\",\"arrowhead\":0,\"arrowwidth\":1},\"geo\":{\"bgcolor\":\"white\",\"landcolor\":\"#E5ECF6\",\"subunitcolor\":\"white\",\"showland\":true,\"showlakes\":true,\"lakecolor\":\"white\"},\"title\":{\"x\":0.05},\"mapbox\":{\"style\":\"light\"}}},\"xaxis\":{\"anchor\":\"y\",\"domain\":[0.0,1.0],\"title\":{\"text\":\"\\uc774\\ub984\"}},\"yaxis\":{\"anchor\":\"x\",\"domain\":[0.0,1.0],\"title\":{\"text\":\"\\ub098\\uc774\"}},\"legend\":{\"title\":{\"text\":\"\\uc0c9\\uc0c1\"},\"tracegroupgap\":0},\"title\":{\"text\":\"\\uc774\\ub984\\ubcc4 \\ub098\\uc774 \\ube44\\uad50\"},\"barmode\":\"relative\"},                        {\"responsive\": true}                    ).then(function(){\n",
              "                            \n",
              "var gd = document.getElementById('1b36bb24-1e43-477f-8ee6-ccc927afd839');\n",
              "var x = new MutationObserver(function (mutations, observer) {{\n",
              "        var display = window.getComputedStyle(gd).display;\n",
              "        if (!display || display === 'none') {{\n",
              "            console.log([gd, 'removed!']);\n",
              "            Plotly.purge(gd);\n",
              "            observer.disconnect();\n",
              "        }}\n",
              "}});\n",
              "\n",
              "// Listen for the removal of the full notebook cells\n",
              "var notebookContainer = gd.closest('#notebook-container');\n",
              "if (notebookContainer) {{\n",
              "    x.observe(notebookContainer, {childList: true});\n",
              "}}\n",
              "\n",
              "// Listen for the clearing of the current output cell\n",
              "var outputEl = gd.closest('.output');\n",
              "if (outputEl) {{\n",
              "    x.observe(outputEl, {childList: true});\n",
              "}}\n",
              "\n",
              "                        })                };                            </script>        </div>\n",
              "</body>\n",
              "</html>"
            ]
          },
          "metadata": {},
          "output_type": "display_data"
        }
      ],
      "source": [
        "import pandas as pd\n",
        "import plotly.express as px\n",
        "\n",
        "# 리스트로 데이터프레임 생성\n",
        "df = pd.DataFrame({\n",
        "    \"이름\": [\"홍길동\", \"김유신\", \"이순신\"],\n",
        "    \"나이\": [30, 40, 50],\n",
        "    \"성별\": [\"남\", \"남\", \"남\"]\n",
        "})\n",
        "\n",
        "# 나이가 30세 미만인 경우 붉은색으로 표시하기 위한 색상 설정\n",
        "df['색상'] = df['나이'].apply(lambda x: 'red' if x < 30 else 'blue')\n",
        "\n",
        "# 그래프 생성\n",
        "fig = px.bar(df, x='이름', y='나이', title='이름별 나이 비교', color='색상')\n",
        "\n",
        "# Plotly의 iplot을 사용하여 그래프를 표시\n",
        "fig.show()"
      ]
    },
    {
      "cell_type": "markdown",
      "metadata": {
        "id": "CRDZDqa1y2oM"
      },
      "source": [
        "## 예제 3 - Excel로 저장하기\n",
        "> 예제 2의 내용을 액셀로 저장하기"
      ]
    },
    {
      "cell_type": "code",
      "execution_count": 17,
      "metadata": {
        "id": "8uZCDt96y_qJ"
      },
      "outputs": [],
      "source": [
        "import pandas as pd\n",
        "\n",
        "\n",
        "# 리스트로 데이터프레임 생성\n",
        "df = pd.DataFrame({\n",
        "    \"이름\": [\"홍길동\", \"김유신\", \"이순신\"],\n",
        "    \"나이\": [30, 40, 50],\n",
        "    \"성별\": [\"남\", \"남\", \"남\"]\n",
        "})\n",
        "\n",
        "# 나이가 30세 미만인 경우 붉은색으로 표시하기 위한 색상 설정\n",
        "df['색상'] = df['나이'].apply(lambda x: 'red' if x < 30 else 'blue')\n",
        "\n",
        "df.to_excel('aaa.xlsx', index=False)"
      ]
    },
    {
      "cell_type": "markdown",
      "metadata": {
        "id": "FK3q49Vf3iwG"
      },
      "source": [
        "## 예제 4 - Excel에서 가져오기\n",
        "> 예제 2의 내용으로 액셀에서 가져오기"
      ]
    },
    {
      "cell_type": "code",
      "execution_count": null,
      "metadata": {
        "id": "uDcvOWcB3iwG"
      },
      "outputs": [],
      "source": [
        "import pandas as pd\n",
        "import plotly.express as px\n",
        "\n",
        "# 리스트로 데이터프레임 생성\n",
        "df = pd.read_excel('aaa.xlsx')\n",
        "\n",
        "\n",
        "# 그래프 생성\n",
        "fig = px.bar(df, x='이름', y='나이', title='이름별 나이 비교', color='색상')\n",
        "\n",
        "# Plotly의 iplot을 사용하여 그래프를 표시\n",
        "fig.show()"
      ]
    }
  ],
  "metadata": {
    "colab": {
      "authorship_tag": "ABX9TyNbNvDQjVMN5wtPXWJSMH6z",
      "collapsed_sections": [
        "JbeDA3zat6zx"
      ],
      "include_colab_link": true,
      "provenance": [],
      "toc_visible": true
    },
    "kernelspec": {
      "display_name": "Python 3",
      "name": "python3"
    },
    "language_info": {
      "name": "python"
    }
  },
  "nbformat": 4,
  "nbformat_minor": 0
}
